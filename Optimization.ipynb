{
 "cells": [
  {
   "cell_type": "raw",
   "id": "0939aa2d-d64a-47f9-a9ce-f44c0910f1fa",
   "metadata": {},
   "source": [
    "Problem Statement\n",
    "A Chocolate factory produce both Dark Chocolate and Milk Chocolate\n",
    "Product        \tProfit(usd) \tCocoa(kg) Required\tSugar(kg)Required\n",
    "Dark Chocolate\t     50\t            6\t                 2\n",
    "Milk Chocolate\t     40          \t4\t                 5"
   ]
  },
  {
   "cell_type": "code",
   "execution_count": 5,
   "id": "902ed07b-da77-46e6-8ec6-763e5ef1f2ed",
   "metadata": {},
   "outputs": [],
   "source": [
    "from pulp import LpMaximize as lm, LpProblem as lp, LpVariable as lv\n",
    "import matplotlib.pyplot as plt\n",
    "import numpy as np"
   ]
  },
  {
   "cell_type": "code",
   "execution_count": 13,
   "id": "5151d9ed-59a7-4b41-93a8-51d4a7650e21",
   "metadata": {},
   "outputs": [],
   "source": [
    "# creating a line programming model\n",
    "maximize_model = lp(name = 'Chocolate_production', sense=lm)\n",
    "\n",
    "#initialising decision variable\n",
    "dark_chocolate = lv(name = 'dasrk_chocolate', lowBound = 0, cat = 'Integer')\n",
    "milk_chocolate = lv(name = 'milk_chocolate', lowBound = 0, cat= 'Integer')\n",
    "\n",
    "# objective : To Maximize the profit\n",
    "maximize_model += 50* dark_chocolate + 40*milk_chocolate, \"Total_profit\"\n",
    "\n",
    "# constraints:(available resource)\n",
    "# Cocoa available: 240 kg\n",
    "# Sugar available: 200 kg\n",
    "\n",
    "maximize_model += 6 * dark_chocolate + 4 * milk_chocolate <=240, \"Cocoa_constraint\"\n",
    "maximize_model += 2 * dark_chocolate + 5 * milk_chocolate <=200, \"Sugar_constraint\""
   ]
  },
  {
   "cell_type": "code",
   "execution_count": 19,
   "id": "1e4feea5-b88f-42e5-91fe-230a5a6623d2",
   "metadata": {},
   "outputs": [
    {
     "name": "stdout",
     "output_type": "stream",
     "text": [
      "Optimization status: 1, Optimal\n",
      "Dark Chocolates to produce: 20.0\n",
      "Milk Chocolates to produce: 30.0\n",
      "Total Profit: $2200.0\n"
     ]
    }
   ],
   "source": [
    "# sloving the optimization problem to maximize the profit\n",
    "from pulp import LpStatus\n",
    "maximize_model.solve()\n",
    "\n",
    "# printing the result \n",
    "print(f\"Optimization status: {maximize_model.status}, {LpStatus[maximize_model.status]}\")\n",
    "print(f\"Dark Chocolates to produce: {dark_chocolate.value()}\")\n",
    "print(f\"Milk Chocolates to produce: {milk_chocolate.value()}\")\n",
    "print(f\"Total Profit: ${maximize_model.objective.value()}\")"
   ]
  },
  {
   "cell_type": "code",
   "execution_count": null,
   "id": "0e8b7406-6b4b-4f5c-9298-7141a4d2864d",
   "metadata": {},
   "outputs": [],
   "source": []
  }
 ],
 "metadata": {
  "kernelspec": {
   "display_name": "Python 3 (ipykernel)",
   "language": "python",
   "name": "python3"
  },
  "language_info": {
   "codemirror_mode": {
    "name": "ipython",
    "version": 3
   },
   "file_extension": ".py",
   "mimetype": "text/x-python",
   "name": "python",
   "nbconvert_exporter": "python",
   "pygments_lexer": "ipython3",
   "version": "3.11.7"
  }
 },
 "nbformat": 4,
 "nbformat_minor": 5
}
